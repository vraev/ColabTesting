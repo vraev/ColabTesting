{
  "nbformat": 4,
  "nbformat_minor": 0,
  "metadata": {
    "colab": {
      "name": "My_base_info.ipynb",
      "provenance": [],
      "include_colab_link": true
    },
    "kernelspec": {
      "name": "python3",
      "display_name": "Python 3"
    }
  },
  "cells": [
    {
      "cell_type": "markdown",
      "metadata": {
        "id": "view-in-github",
        "colab_type": "text"
      },
      "source": [
        "<a href=\"https://colab.research.google.com/github/vraev/ColabTesting/blob/master/My_base_info.ipynb\" target=\"_parent\"><img src=\"https://colab.research.google.com/assets/colab-badge.svg\" alt=\"Open In Colab\"/></a>"
      ]
    },
    {
      "cell_type": "code",
      "metadata": {
        "id": "F_IJU_mcD2X-",
        "colab_type": "code",
        "colab": {}
      },
      "source": [
        ""
      ],
      "execution_count": 0,
      "outputs": []
    },
    {
      "cell_type": "markdown",
      "metadata": {
        "id": "sOidpCIi6cuf",
        "colab_type": "text"
      },
      "source": [
        "[![Open In Colab](https://colab.research.google.com/assets/colab-badge.svg)](https://colab.research.google.com/github/googlecolab/colabtools/blob/master/notebooks/colab-github-demo.ipynb)"
      ]
    },
    {
      "cell_type": "markdown",
      "metadata": {
        "id": "9pS0qK9s5RQj",
        "colab_type": "text"
      },
      "source": [
        "# INFO\n",
        "**Enable jupyter local**\n",
        "\n",
        "Step2 - installation\n",
        "pip install jupyter_http_over_ws\n",
        "jupyter serverextension enable --py jupyter_http_over_ws\n",
        "\n",
        "Step3 - starting\n",
        "jupyter notebook \\\n",
        "  --NotebookApp.allow_origin='https://colab.research.google.com' \\\n",
        "  --port=8888 \\\n",
        "  --NotebookApp.port_retries=9\n",
        "\n",
        "Step4 - additional\n",
        "--no-browser\n",
        "\n",
        "\n",
        "**Using google spreadsheets:**\n",
        "\n",
        "https://github.com/burnash/gspread#more-examples"
      ]
    },
    {
      "cell_type": "markdown",
      "metadata": {
        "id": "lKdpF3iXEVp2",
        "colab_type": "text"
      },
      "source": [
        "# New Section"
      ]
    },
    {
      "cell_type": "markdown",
      "metadata": {
        "id": "4gLKJ1OHEYOG",
        "colab_type": "text"
      },
      "source": [
        "# New Section"
      ]
    }
  ]
}